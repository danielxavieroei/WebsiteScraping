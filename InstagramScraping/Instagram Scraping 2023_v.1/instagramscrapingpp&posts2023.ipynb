{
 "cells": [
  {
   "cell_type": "code",
   "execution_count": 1,
   "id": "cabd14b6",
   "metadata": {},
   "outputs": [],
   "source": [
    "#imports\n",
    "from selenium import webdriver\n",
    "from selenium.webdriver.common.keys import Keys\n",
    "from selenium.webdriver.support import expected_conditions as EC\n",
    "from selenium.webdriver.common.by import By\n",
    "from selenium.webdriver.support.wait import WebDriverWait\n",
    "import time, urllib.request, requests"
   ]
  },
  {
   "cell_type": "code",
   "execution_count": 2,
   "id": "dff76039",
   "metadata": {},
   "outputs": [],
   "source": [
    "service = webdriver.ChromeService(executable_path='C:\\chromedriver-win64\\chromedriver.exe')\n",
    "driver = webdriver.Chrome(service=service)"
   ]
  },
  {
   "cell_type": "code",
   "execution_count": 3,
   "id": "9d079cc5",
   "metadata": {},
   "outputs": [],
   "source": [
    "driver.get(\"http://www.instagram.com\")"
   ]
  },
  {
   "cell_type": "code",
   "execution_count": 4,
   "id": "16337803",
   "metadata": {},
   "outputs": [],
   "source": [
    "username = WebDriverWait(driver, 10).until(EC.element_to_be_clickable((By.CSS_SELECTOR,\"input[name='username']\")))\n",
    "password = WebDriverWait(driver, 10).until(EC.element_to_be_clickable((By.CSS_SELECTOR,\"input[name='password']\")))"
   ]
  },
  {
   "cell_type": "code",
   "execution_count": 5,
   "id": "30d41b5a",
   "metadata": {},
   "outputs": [],
   "source": [
    "username.clear()\n",
    "username.send_keys(\"danielxavieroei@gmail.com\")\n",
    "password.clear()\n",
    "password.send_keys(\"enter your password\")"
   ]
  },
  {
   "cell_type": "code",
   "execution_count": 6,
   "id": "188e33e1",
   "metadata": {},
   "outputs": [],
   "source": [
    "button = WebDriverWait(driver, 10).until(EC.element_to_be_clickable((By.CSS_SELECTOR,\"button[type='submit']\"))).click()"
   ]
  },
  {
   "cell_type": "code",
   "execution_count": 7,
   "id": "cfe71864",
   "metadata": {},
   "outputs": [],
   "source": [
    "time.sleep(5)\n",
    "alert = WebDriverWait(driver, 15).until(EC.element_to_be_clickable((By.XPATH, '//button[contains(text(), \"Save Info\")]')))\n",
    "alert.click()"
   ]
  },
  {
   "cell_type": "code",
   "execution_count": 8,
   "id": "ce6f6825",
   "metadata": {},
   "outputs": [],
   "source": [
    "time.sleep(5)\n",
    "alert = WebDriverWait(driver, 15).until(EC.element_to_be_clickable((By.XPATH, '//button[contains(text(), \"Not Now\")]')))\n",
    "alert.click()"
   ]
  },
  {
   "cell_type": "code",
   "execution_count": 9,
   "id": "bddd199b",
   "metadata": {},
   "outputs": [],
   "source": [
    "keyword = \"yoonjiiii\"\n",
    "driver.get(\"http://www.instagram.com\" + \"/\" + keyword + \"/\")"
   ]
  },
  {
   "cell_type": "code",
   "execution_count": 10,
   "id": "b679fa9c",
   "metadata": {},
   "outputs": [],
   "source": [
    "driver.execute_script(\"window.scrollTo(0,4000);\")"
   ]
  },
  {
   "cell_type": "code",
   "execution_count": 20,
   "id": "a6643c07",
   "metadata": {},
   "outputs": [
    {
     "name": "stdout",
     "output_type": "stream",
     "text": [
      "Number of scraped images:  29\n"
     ]
    }
   ],
   "source": [
    "images = driver.find_elements(By.TAG_NAME, 'img')\n",
    "images = [image.get_attribute('src') for image in images]\n",
    "\n",
    "print('Number of scraped images: ', len(images))"
   ]
  },
  {
   "cell_type": "code",
   "execution_count": 21,
   "id": "b2ca15be",
   "metadata": {},
   "outputs": [
    {
     "data": {
      "text/plain": [
       "['data:image/png;base64,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',\n",
       " 'data:image/png;base64,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',\n",
       " 'https://scontent.cdninstagram.com/v/t51.2885-19/32307834_598470877184893_3423528872707096576_n.jpg?stp=dst-jpg_s150x150&_nc_ht=scontent.cdninstagram.com&_nc_cat=101&_nc_ohc=gf33Oci8nfkAX_ym47T&edm=APs17CUBAAAA&ccb=7-5&oh=00_AfDtl4vU4EQ9k6V9QSNjc176sMLYRrejx3JdAtBgZFrr3Q&oe=652A1FB1&_nc_sid=10d13b',\n",
       " 'https://instagram.fcgk29-1.fna.fbcdn.net/v/t51.2885-19/274748404_1110211226446698_4659654918631608602_n.jpg?stp=dst-jpg_s320x320&_nc_ht=instagram.fcgk29-1.fna.fbcdn.net&_nc_cat=106&_nc_ohc=H1g9sKUAyg0AX8PSSeF&edm=AOQ1c0wBAAAA&ccb=7-5&oh=00_AfBHevtLcTS1Lc-qw5IB1K4Namexp5pQhPvWZW6scjDClg&oe=6529ED12&_nc_sid=8b3546',\n",
       " 'https://instagram.fcgk29-1.fna.fbcdn.net/v/t51.2885-15/345475117_249911550933332_6236462722388369680_n.jpg?stp=c0.247.640.640a_dst-jpg_e15_s150x150&_nc_ht=instagram.fcgk29-1.fna.fbcdn.net&_nc_cat=108&_nc_ohc=_sm6Ggk7zEgAX-CJFkQ&edm=AGW0Xe4BAAAA&ccb=7-5&oh=00_AfAUMmxrQkEU47MVwAA2VJuB3so1LyoLrym9fbFr7RH5QQ&oe=6525E0EC&_nc_sid=94fea1',\n",
       " 'https://instagram.fcgk29-1.fna.fbcdn.net/v/t51.2885-15/387705609_218193454426925_3370311247771082081_n.jpg?stp=dst-jpg_e35&efg=eyJ2ZW5jb2RlX3RhZyI6ImltYWdlX3VybGdlbi4xNDQweDE0NDAuc2RyIn0&_nc_ht=instagram.fcgk29-1.fna.fbcdn.net&_nc_cat=105&_nc_ohc=4wRDOeNT-BIAX-RrT7W&edm=ACWDqb8BAAAA&ccb=7-5&ig_cache_key=MzIwOTcwNTMyOTQxODc1MzgxOQ%3D%3D.2-ccb7-5&oh=00_AfA0clUrHE5asfHbwZ11dUJN5w53bFL1400sAaiAVKRrLg&oe=6528F2AE&_nc_sid=ee9879',\n",
       " 'https://instagram.fcgk29-1.fna.fbcdn.net/v/t51.2885-15/387269201_309448721813572_4569543343627124855_n.jpg?stp=dst-jpg_e35&efg=eyJ2ZW5jb2RlX3RhZyI6ImltYWdlX3VybGdlbi4xNDQweDE0NDAuc2RyIn0&_nc_ht=instagram.fcgk29-1.fna.fbcdn.net&_nc_cat=104&_nc_ohc=ciWOBRxpX8AAX8G-zJj&edm=ACWDqb8BAAAA&ccb=7-5&ig_cache_key=MzIwOTY0NTAwMjc2MTkwODg3Nw%3D%3D.2-ccb7-5&oh=00_AfCbwNxyuTedqcFuIaagp9vTg7Bcn3MPax2kj-zCktUYoQ&oe=65291059&_nc_sid=ee9879',\n",
       " 'https://instagram.fcgk29-1.fna.fbcdn.net/v/t51.2885-15/385584487_2024933057872243_9155349725773697318_n.jpg?stp=dst-jpg_e35&efg=eyJ2ZW5jb2RlX3RhZyI6ImltYWdlX3VybGdlbi4xNDQweDE3NTguc2RyIn0&_nc_ht=instagram.fcgk29-1.fna.fbcdn.net&_nc_cat=107&_nc_ohc=lkUSqNIknnAAX_dNWjd&edm=ACWDqb8BAAAA&ccb=7-5&ig_cache_key=MzIwNjA2NDI0MzY3MjUwMDYwMQ%3D%3D.2-ccb7-5&oh=00_AfBcPA-qnAt3n0RC4wYsUP3eCKY31ZeBe1T8tYYC9HajTw&oe=65286BF7&_nc_sid=ee9879',\n",
       " 'https://instagram.fcgk29-1.fna.fbcdn.net/v/t51.2885-15/385832036_328525559671710_581055274176353025_n.jpg?stp=dst-jpg_e35&efg=eyJ2ZW5jb2RlX3RhZyI6ImltYWdlX3VybGdlbi4xNDQweDE3NTYuc2RyIn0&_nc_ht=instagram.fcgk29-1.fna.fbcdn.net&_nc_cat=106&_nc_ohc=dU5KxpluCSwAX9PgpoW&edm=ACWDqb8BAAAA&ccb=7-5&ig_cache_key=MzIwNjA1NjI0NDMxMzQ1NzY2Ng%3D%3D.2-ccb7-5&oh=00_AfDDxrgJBG3qeAIYg2bPqfWOashcLu6xHKGCpSibJCPrUw&oe=6528A8BF&_nc_sid=ee9879',\n",
       " 'https://instagram.fcgk29-1.fna.fbcdn.net/v/t51.2885-15/385857464_257270786783661_2237675336684830464_n.jpg?stp=dst-jpg_e35&efg=eyJ2ZW5jb2RlX3RhZyI6ImltYWdlX3VybGdlbi4xMDg1eDgxOC5zZHIifQ&_nc_ht=instagram.fcgk29-1.fna.fbcdn.net&_nc_cat=109&_nc_ohc=LgJQ5NgVNwAAX_GsrRH&edm=ACWDqb8BAAAA&ccb=7-5&ig_cache_key=MzIwNTQyODIxMTUyODY0ODM5NQ%3D%3D.2-ccb7-5&oh=00_AfCaa5rUoVRcGfDEZvooqh_uPNft0bGE1SRq8N9-L-z5rg&oe=65295330&_nc_sid=ee9879',\n",
       " 'https://instagram.fcgk29-1.fna.fbcdn.net/v/t51.2885-15/384338787_848404699932374_7806074836963738279_n.jpg?stp=dst-jpg_e35&efg=eyJ2ZW5jb2RlX3RhZyI6ImltYWdlX3VybGdlbi4xNDQweDE0NDAuc2RyIn0&_nc_ht=instagram.fcgk29-1.fna.fbcdn.net&_nc_cat=102&_nc_ohc=P1Kbro_mq-MAX_YQjjE&edm=ACWDqb8BAAAA&ccb=7-5&ig_cache_key=MzIwMDk2MzEwOTEzNjc3Njc4NA%3D%3D.2-ccb7-5&oh=00_AfC553zcif2EwjrweNMqUMGDW5txTFbyHsVMVgsfclwiYg&oe=652905CE&_nc_sid=ee9879',\n",
       " 'https://instagram.fcgk29-1.fna.fbcdn.net/v/t51.2885-15/383763414_2413944248808276_4404851528915985886_n.jpg?stp=dst-jpg_e35&efg=eyJ2ZW5jb2RlX3RhZyI6ImltYWdlX3VybGdlbi44NTB4MTA2Mi5zZHIifQ&_nc_ht=instagram.fcgk29-1.fna.fbcdn.net&_nc_cat=100&_nc_ohc=yGTRuTV-0EIAX9j6xBp&edm=ACWDqb8BAAAA&ccb=7-5&ig_cache_key=MzIwMDI3MDExMjMxMTc5MTI4OA%3D%3D.2-ccb7-5&oh=00_AfBIfMahyqEVZGAzxhI_lgmOrDUdp9zZZEAnpSp89vWirA&oe=652A38A8&_nc_sid=ee9879',\n",
       " 'https://instagram.fcgk29-1.fna.fbcdn.net/v/t51.2885-15/378681375_855616842630234_1925470704817611052_n.jpg?stp=dst-jpg_e35&efg=eyJ2ZW5jb2RlX3RhZyI6ImltYWdlX3VybGdlbi4xNDQweDE4MDAuc2RyIn0&_nc_ht=instagram.fcgk29-1.fna.fbcdn.net&_nc_cat=106&_nc_ohc=c37ztlRcMgIAX8KSnN3&edm=ACWDqb8BAAAA&ccb=7-5&ig_cache_key=MzE5MzA0OTM1NTkyNDA0NDMxMQ%3D%3D.2-ccb7-5&oh=00_AfB5JruaynLQXZQgoPCr3C0yWCBBVUxa9XYb9I4WxFJvuw&oe=6528946E&_nc_sid=ee9879',\n",
       " 'https://instagram.fcgk29-1.fna.fbcdn.net/v/t51.2885-15/377854158_626731916004742_5652395872752784331_n.jpg?stp=dst-jpg_e35&efg=eyJ2ZW5jb2RlX3RhZyI6ImltYWdlX3VybGdlbi4xNDQweDE4MDAuc2RyIn0&_nc_ht=instagram.fcgk29-1.fna.fbcdn.net&_nc_cat=110&_nc_ohc=Pls8yqcT84UAX8m9niL&edm=ACWDqb8BAAAA&ccb=7-5&ig_cache_key=MzE5MTU4NjIwOTU5ODI5OTQ1Nw%3D%3D.2-ccb7-5&oh=00_AfDr4YElu9VV6EcvYxLaPKs1dJ9rMqrZIaMcFAraYEk7-g&oe=6529563A&_nc_sid=ee9879',\n",
       " 'https://instagram.fcgk29-1.fna.fbcdn.net/v/t51.2885-15/376250872_678031943913584_2704315419766565508_n.jpg?stp=dst-jpg_e35&efg=eyJ2ZW5jb2RlX3RhZyI6ImltYWdlX3VybGdlbi4xNDQweDE4MDAuc2RyIn0&_nc_ht=instagram.fcgk29-1.fna.fbcdn.net&_nc_cat=108&_nc_ohc=ibVuSwew_gMAX96hoaH&edm=ACWDqb8BAAAA&ccb=7-5&ig_cache_key=MzE4ODY5MTI0ODA1NTI5OTIxNQ%3D%3D.2-ccb7-5&oh=00_AfBX3BoftjKXoluLh27Oc9mVIRycsCnXCFK8geLNnAut2A&oe=65293735&_nc_sid=ee9879',\n",
       " 'https://instagram.fcgk29-1.fna.fbcdn.net/v/t51.2885-15/375909904_622682756723281_3160439107176406098_n.jpg?stp=dst-jpg_e35&efg=eyJ2ZW5jb2RlX3RhZyI6ImltYWdlX3VybGdlbi4xNDQweDEwODQuc2RyIn0&_nc_ht=instagram.fcgk29-1.fna.fbcdn.net&_nc_cat=101&_nc_ohc=w-ByfWDaVpUAX9vAIAH&edm=ACWDqb8BAAAA&ccb=7-5&ig_cache_key=MzE4ODA1MzU1NjkyOTE4MTk4MQ%3D%3D.2-ccb7-5&oh=00_AfBrcxWui6wgbYsIQiucRwkXyzrP8l7TIxVPAh3wilUj2w&oe=6528AD64&_nc_sid=ee9879',\n",
       " 'https://instagram.fcgk29-1.fna.fbcdn.net/v/t51.2885-15/372733446_323701156698324_4070401042319162472_n.jpg?stp=dst-jpg_e35&efg=eyJ2ZW5jb2RlX3RhZyI6ImltYWdlX3VybGdlbi4xNDQweDE4MDAuc2RyIn0&_nc_ht=instagram.fcgk29-1.fna.fbcdn.net&_nc_cat=100&_nc_ohc=nJUBQR06Y40AX-xAe_j&edm=ACWDqb8BAAAA&ccb=7-5&ig_cache_key=MzE4MjI2NzM3NDM5NTk4MDAzMw%3D%3D.2-ccb7-5&oh=00_AfAH8dufx803BilbHt0cSJp0Q00PayS9m_qdeo7rd8m9iQ&oe=6528AB07&_nc_sid=ee9879',\n",
       " 'https://instagram.fcgk29-1.fna.fbcdn.net/v/t51.2885-15/371996125_3633800386864255_4696147543212831643_n.jpg?stp=dst-jpg_e35&efg=eyJ2ZW5jb2RlX3RhZyI6ImltYWdlX3VybGdlbi4xNDQweDE4MDAuc2RyIn0&_nc_ht=instagram.fcgk29-1.fna.fbcdn.net&_nc_cat=107&_nc_ohc=Glo9yYiYgSUAX-ACEnR&edm=ABmJApABAAAA&ccb=7-5&ig_cache_key=MzE3OTI3MTUwNTg2NTgzNTQ4Mw%3D%3D.2-ccb7-5&oh=00_AfDFVPhNAsWWV0ZyPHaMweFJZOOBtalQnT8l4H5EPSsLRg&oe=652A4546&_nc_sid=b41fef',\n",
       " 'https://instagram.fcgk29-1.fna.fbcdn.net/v/t51.2885-15/371061440_809917684116218_2108003408399024206_n.jpg?stp=dst-jpg_e35&efg=eyJ2ZW5jb2RlX3RhZyI6ImltYWdlX3VybGdlbi4xNDQweDE4MDAuc2RyIn0&_nc_ht=instagram.fcgk29-1.fna.fbcdn.net&_nc_cat=102&_nc_ohc=2Nc3QAhK-EIAX8Rv6hd&edm=ABmJApABAAAA&ccb=7-5&ig_cache_key=MzE3ODQ4NjUxMTgwODY0OTUwNA%3D%3D.2-ccb7-5&oh=00_AfDnZVBlMFuSJ8kIaJRThSOR7Oc4D71CTi7d7FGtYinlpA&oe=65299597&_nc_sid=b41fef',\n",
       " 'https://instagram.fcgk29-1.fna.fbcdn.net/v/t51.2885-15/370172677_206288862436271_195422628278318021_n.jpg?stp=dst-jpg_e35&efg=eyJ2ZW5jb2RlX3RhZyI6ImltYWdlX3VybGdlbi4xNDQweDE0OTYuc2RyIn0&_nc_ht=instagram.fcgk29-1.fna.fbcdn.net&_nc_cat=111&_nc_ohc=C32jC__u55cAX-biyBm&edm=ABmJApABAAAA&ccb=7-5&ig_cache_key=MzE3NzMyMzQzNTQyNjk4NjU0NQ%3D%3D.2-ccb7-5&oh=00_AfAvD4lDs5RLliRFj1DcdrRCaA4-td8czMEZt6-tUlPyIA&oe=652922A1&_nc_sid=b41fef',\n",
       " 'https://instagram.fcgk29-1.fna.fbcdn.net/v/t51.2885-15/363064752_237429499127247_6270120627270697823_n.jpg?stp=dst-jpg_e15&efg=eyJ2ZW5jb2RlX3RhZyI6ImltYWdlX3VybGdlbi43MjB4NDA1LnNkciJ9&_nc_ht=instagram.fcgk29-1.fna.fbcdn.net&_nc_cat=103&_nc_ohc=2UiOxPwUrU0AX9txzhe&edm=ABmJApABAAAA&ccb=7-5&ig_cache_key=MzE1NDU5NDU2MTE1NzA5OTQ5Ng%3D%3D.2-ccb7-5&oh=00_AfDr4UWAsi7nwDFryJdAiPfMriqptzX-ewwy7kfVGvO-SQ&oe=65272FEE&_nc_sid=b41fef',\n",
       " 'https://instagram.fcgk29-1.fna.fbcdn.net/v/t51.2885-15/358380217_778751707316332_2297011938353727710_n.jpg?stp=dst-jpg_e35&efg=eyJ2ZW5jb2RlX3RhZyI6ImltYWdlX3VybGdlbi4xNDQweDE4MDAuc2RyIn0&_nc_ht=instagram.fcgk29-1.fna.fbcdn.net&_nc_cat=104&_nc_ohc=r3VuTz9sZqoAX-u30zS&edm=ABmJApABAAAA&ccb=7-5&ig_cache_key=MzE0MzAxNzUyNDU5MzQzNTIzNg%3D%3D.2-ccb7-5&oh=00_AfA-HR8sYUHScfpyGLF6CZHp8ojGyEQhHA0KFSksR9iOzw&oe=652A2217&_nc_sid=b41fef',\n",
       " 'https://instagram.fcgk29-1.fna.fbcdn.net/v/t51.2885-15/354977982_1248776695842152_2878508909244613762_n.jpg?stp=dst-jpg_e35&efg=eyJ2ZW5jb2RlX3RhZyI6ImltYWdlX3VybGdlbi4xNDQweDE4MDAuc2RyIn0&_nc_ht=instagram.fcgk29-1.fna.fbcdn.net&_nc_cat=108&_nc_ohc=kcpWfBG1zCEAX8VqJ7w&edm=ABmJApABAAAA&ccb=7-5&ig_cache_key=MzEyOTk4NzU3NTgxMTg4MjU1OQ%3D%3D.2-ccb7-5&oh=00_AfC3F1v3ygmJyfQVC0SfdyXXDwMVdHJGClBdlafAocgLIA&oe=652A3310&_nc_sid=b41fef',\n",
       " 'https://instagram.fcgk29-1.fna.fbcdn.net/v/t51.2885-15/354765767_947685349682564_4250724167134163208_n.jpg?stp=dst-jpg_e15&efg=eyJ2ZW5jb2RlX3RhZyI6ImltYWdlX3VybGdlbi43MjB4OTAwLnNkciJ9&_nc_ht=instagram.fcgk29-1.fna.fbcdn.net&_nc_cat=108&_nc_ohc=Tcx9t1kec2UAX_LWRfT&edm=ABmJApABAAAA&ccb=7-5&ig_cache_key=MzEyODYyMjQzNDMwNzY4MDYyMg%3D%3D.2-ccb7-5&oh=00_AfBU4aNsVKmcq8kpRsDXrsT3zsuVzAza2VSDt5iZckiw6g&oe=6528B366&_nc_sid=b41fef',\n",
       " 'https://instagram.fcgk29-1.fna.fbcdn.net/v/t51.2885-15/354421756_621761873351136_205001359763991352_n.jpg?stp=dst-jpg_e35&efg=eyJ2ZW5jb2RlX3RhZyI6ImltYWdlX3VybGdlbi4xMTI1eDExMjUuc2RyIn0&_nc_ht=instagram.fcgk29-1.fna.fbcdn.net&_nc_cat=100&_nc_ohc=XK3xVTOuPBEAX-l-nWO&edm=ABmJApABAAAA&ccb=7-5&ig_cache_key=MzEyNzgzMjI5NzU3MDUyMTM0OA%3D%3D.2-ccb7-5&oh=00_AfBpskxBA65fDmywzsyOWH1Rll-j3g1UqufVPcyuSOdypQ&oe=652A1408&_nc_sid=b41fef',\n",
       " 'https://instagram.fcgk29-1.fna.fbcdn.net/v/t51.2885-15/353913047_642217254445912_874885722411436865_n.jpg?stp=dst-jpg_e35&efg=eyJ2ZW5jb2RlX3RhZyI6ImltYWdlX3VybGdlbi42MDN4NDExLnNkciJ9&_nc_ht=instagram.fcgk29-1.fna.fbcdn.net&_nc_cat=104&_nc_ohc=Jy5q1jsQtLcAX9txN_v&edm=ABmJApABAAAA&ccb=7-5&ig_cache_key=MzEyNjM2NDAwNzgxOTU5NjM4MQ%3D%3D.2-ccb7-5&oh=00_AfAWAD1K57tv0POPBdMD4gwFKw1X7mJFsBCY-WSJyHkUAw&oe=6528D859&_nc_sid=b41fef',\n",
       " 'https://instagram.fcgk29-1.fna.fbcdn.net/v/t51.2885-15/353758913_668133185127967_6483934255745367488_n.jpg?stp=dst-jpg_e35&efg=eyJ2ZW5jb2RlX3RhZyI6ImltYWdlX3VybGdlbi4xNDQweDE4MDAuc2RyIn0&_nc_ht=instagram.fcgk29-1.fna.fbcdn.net&_nc_cat=107&_nc_ohc=IL6-eD_gsoEAX8WrSpa&edm=ABmJApABAAAA&ccb=7-5&ig_cache_key=MzEyNDk4NDk2OTQ2MTQ2ODE0Nw%3D%3D.2-ccb7-5&oh=00_AfAQQisiSWXBMQ_jly9_8abmAk0aZvz5uYhH3OIaojKz8Q&oe=6529A040&_nc_sid=b41fef',\n",
       " 'https://instagram.fcgk29-1.fna.fbcdn.net/v/t51.2885-15/352134212_136952492687976_1936821976969273180_n.jpg?stp=dst-jpg_e35&efg=eyJ2ZW5jb2RlX3RhZyI6ImltYWdlX3VybGdlbi4xNDQweDE4MDAuc2RyIn0&_nc_ht=instagram.fcgk29-1.fna.fbcdn.net&_nc_cat=100&_nc_ohc=y5-ag6KCadwAX9I9-xN&edm=ABmJApABAAAA&ccb=7-5&ig_cache_key=MzExOTA3NDE0NzI5Njg2MDk2OQ%3D%3D.2-ccb7-5&oh=00_AfA5QlBeDjRU2sTg3YCQRNwFcbrpbsALQ4gz7nLyapITnw&oe=6529A0D3&_nc_sid=b41fef',\n",
       " 'https://instagram.fcgk29-1.fna.fbcdn.net/v/t51.2885-15/351234196_2562290167257647_8361378133033929664_n.jpg?stp=dst-jpg_e35&efg=eyJ2ZW5jb2RlX3RhZyI6ImltYWdlX3VybGdlbi4xNDQweDE3OTQuc2RyIn0&_nc_ht=instagram.fcgk29-1.fna.fbcdn.net&_nc_cat=111&_nc_ohc=SsjJ73buyfYAX_mISXK&edm=ABmJApABAAAA&ccb=7-5&ig_cache_key=MzExODM5MzQxMTc5ODE4NDQ4Ng%3D%3D.2-ccb7-5&oh=00_AfCufUDK44ZRVmGSBK99jTnAIpKqe4NthEE4w0-cENeL3A&oe=65294B9B&_nc_sid=b41fef']"
      ]
     },
     "execution_count": 21,
     "metadata": {},
     "output_type": "execute_result"
    }
   ],
   "source": [
    "images"
   ]
  },
  {
   "cell_type": "code",
   "execution_count": 22,
   "id": "3c6c1d8d",
   "metadata": {},
   "outputs": [
    {
     "data": {
      "text/plain": [
       "'C:\\\\Users\\\\User\\\\Documents\\\\Python Projects\\\\Instagram Scraping - Posts\\\\yoonjiiii posts'"
      ]
     },
     "execution_count": 22,
     "metadata": {},
     "output_type": "execute_result"
    }
   ],
   "source": [
    "import os\n",
    "\n",
    "path = os.getcwd()\n",
    "path = os.path.join(path, keyword[0:] + \" posts\")\n",
    "\n",
    "os.mkdir(path)\n",
    "path"
   ]
  },
  {
   "cell_type": "code",
   "execution_count": 23,
   "id": "82085bdd",
   "metadata": {},
   "outputs": [],
   "source": [
    "import requests\n",
    "import os\n",
    "import base64\n",
    "from io import BytesIO\n",
    "from PIL import Image"
   ]
  },
  {
   "cell_type": "code",
   "execution_count": 24,
   "id": "17761799",
   "metadata": {},
   "outputs": [],
   "source": [
    "def download_and_save_base64(base64_data, path, keyword, counter):\n",
    "    try:\n",
    "        image_data = base64.b64decode(base64_data)\n",
    "\n",
    "        file_name = f\"{keyword[1:]}_{counter}.jpg\"\n",
    "        save_as = os.path.join(path, file_name)\n",
    "\n",
    "        with open(save_as, 'wb') as f:\n",
    "            f.write(image_data)\n",
    "\n",
    "        print(f\"Downloaded and saved {file_name}\")\n",
    "    except Exception as e:\n",
    "        print(f\"An error occurred while saving base64 image: {e}\")"
   ]
  },
  {
   "cell_type": "code",
   "execution_count": 32,
   "id": "11137f09",
   "metadata": {},
   "outputs": [
    {
     "name": "stdout",
     "output_type": "stream",
     "text": [
      "Downloaded and saved Instagram_0.jpg\n",
      "Downloaded and saved Instagram_1.jpg\n",
      "Downloaded yoonjiiii_2.jpg\n",
      "Downloaded yoonjiiii_3.jpg\n",
      "Downloaded yoonjiiii_4.jpg\n",
      "Downloaded yoonjiiii_5.jpg\n",
      "Downloaded yoonjiiii_6.jpg\n",
      "Downloaded yoonjiiii_7.jpg\n",
      "Downloaded yoonjiiii_8.jpg\n",
      "Downloaded yoonjiiii_9.jpg\n",
      "Downloaded yoonjiiii_10.jpg\n",
      "Downloaded yoonjiiii_11.jpg\n",
      "Downloaded yoonjiiii_12.jpg\n",
      "Downloaded yoonjiiii_13.jpg\n",
      "Downloaded yoonjiiii_14.jpg\n",
      "Downloaded yoonjiiii_15.jpg\n",
      "Downloaded yoonjiiii_16.jpg\n",
      "Downloaded yoonjiiii_17.jpg\n",
      "Downloaded yoonjiiii_18.jpg\n",
      "Downloaded yoonjiiii_19.jpg\n",
      "Downloaded yoonjiiii_20.jpg\n",
      "Downloaded yoonjiiii_21.jpg\n",
      "Downloaded yoonjiiii_22.jpg\n",
      "Downloaded yoonjiiii_23.jpg\n",
      "Downloaded yoonjiiii_24.jpg\n",
      "Downloaded yoonjiiii_25.jpg\n",
      "Downloaded yoonjiiii_26.jpg\n",
      "Downloaded yoonjiiii_27.jpg\n",
      "Downloaded yoonjiiii_28.jpg\n"
     ]
    }
   ],
   "source": [
    "keyword2 = \" Instagram\"\n",
    "\n",
    "counter = 0\n",
    "for image in images:\n",
    "    try:\n",
    "        if image.startswith(\"data:image/\"):\n",
    "            download_and_save_base64(image.split(',')[1], path, keyword2, counter)\n",
    "        else:\n",
    "            response = requests.get(image)\n",
    "            if response.status_code == 200:\n",
    "                file_name = f\"{keyword[0:]}_{counter}.jpg\"\n",
    "                save_as = os.path.join(path, file_name)\n",
    "                with open(save_as, 'wb') as f:\n",
    "                    f.write(response.content)\n",
    "                print(f\"Downloaded {file_name}\")\n",
    "            else:\n",
    "                print(f\"Failed to download {image}\")\n",
    "    except Exception as e:\n",
    "        print(f\"An error occurred while processing {image}: {e}\")\n",
    "    \n",
    "    counter += 1"
   ]
  }
 ],
 "metadata": {
  "kernelspec": {
   "display_name": "Python 3 (ipykernel)",
   "language": "python",
   "name": "python3"
  },
  "language_info": {
   "codemirror_mode": {
    "name": "ipython",
    "version": 3
   },
   "file_extension": ".py",
   "mimetype": "text/x-python",
   "name": "python",
   "nbconvert_exporter": "python",
   "pygments_lexer": "ipython3",
   "version": "3.10.9"
  }
 },
 "nbformat": 4,
 "nbformat_minor": 5
}
