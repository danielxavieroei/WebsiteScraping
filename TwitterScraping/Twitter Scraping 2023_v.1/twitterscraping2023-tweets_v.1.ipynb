{
 "cells": [
  {
   "cell_type": "code",
   "execution_count": 3,
   "id": "99272bda",
   "metadata": {},
   "outputs": [],
   "source": [
    "import selenium\n",
    "from selenium import webdriver\n",
    "from selenium.webdriver.common.by import By\n",
    "from selenium.webdriver.common.keys import Keys\n",
    "from time import sleep"
   ]
  },
  {
   "cell_type": "code",
   "execution_count": 4,
   "id": "d7bc2b90",
   "metadata": {},
   "outputs": [],
   "source": [
    "service = webdriver.ChromeService(executable_path='C:\\chromedriver-win64\\chromedriver.exe')\n",
    "driver = webdriver.Chrome(service=service)"
   ]
  },
  {
   "cell_type": "code",
   "execution_count": 5,
   "id": "1b21d0cf",
   "metadata": {},
   "outputs": [],
   "source": [
    "driver.get(\"https://twitter.com/login\")"
   ]
  },
  {
   "cell_type": "code",
   "execution_count": 6,
   "id": "4e4c27be",
   "metadata": {},
   "outputs": [],
   "source": [
    "sleep(5)\n",
    "username = driver.find_element(By.XPATH,\"//input[@name='text']\")\n",
    "username.send_keys(\"danielxavieroei@gmail.com\")\n",
    "next_button = driver.find_element(By.XPATH,\"//span[contains(text(),'Next')]\")\n",
    "next_button.click()"
   ]
  },
  {
   "cell_type": "code",
   "execution_count": 7,
   "id": "66eb17fc",
   "metadata": {},
   "outputs": [],
   "source": [
    "sleep(5)\n",
    "password = driver.find_element(By.XPATH,\"//input[@name='password']\")\n",
    "password.send_keys('enter your password')\n",
    "log_in = driver.find_element(By.XPATH,\"//span[contains(text(),'Log in')]\")\n",
    "log_in.click()"
   ]
  },
  {
   "cell_type": "code",
   "execution_count": null,
   "id": "f0b6784b",
   "metadata": {},
   "outputs": [],
   "source": [
    "from selenium.webdriver.support import expected_conditions as EC\n",
    "from selenium.webdriver.support.wait import WebDriverWait\n",
    "\n",
    "close_button = WebDriverWait(driver, 30).until(EC.element_to_be_clickable((By.CSS_SELECTOR, 'div[aria-label=\"Close\"]')))\n",
    "close_button.click()"
   ]
  },
  {
   "cell_type": "code",
   "execution_count": 9,
   "id": "14c1eb1d",
   "metadata": {},
   "outputs": [],
   "source": [
    "subject = \"Seraphine\"\n",
    "\n",
    "sleep(3)\n",
    "search_box = driver.find_element(By.XPATH,\"//input[@data-testid='SearchBox_Search_Input']\")\n",
    "search_box.send_keys(subject)\n",
    "search_box.send_keys(Keys.ENTER)\n",
    "\n",
    "sleep(3)\n",
    "people = driver.find_element(By.XPATH,\"//span[contains(text(),'People')]\")\n",
    "people.click()"
   ]
  },
  {
   "cell_type": "code",
   "execution_count": 14,
   "id": "78967386",
   "metadata": {},
   "outputs": [],
   "source": [
    "from selenium.webdriver.support import expected_conditions as EC\n",
    "from selenium.webdriver.support.wait import WebDriverWait\n",
    "search_results = WebDriverWait(driver, 30).until(EC.presence_of_all_elements_located((By.XPATH, \"//*[@id=\\\"react-root\\\"]/div/div/div[2]/main/div/div/div/div/div/div[3]/section/div/div/div[1]/div/div/div/div/div[2]/div[1]/div[1]/div/div[1]/a/div/div[1]/span/span[1]\")))"
   ]
  },
  {
   "cell_type": "code",
   "execution_count": 15,
   "id": "58cca958",
   "metadata": {},
   "outputs": [],
   "source": [
    "for result in search_results:\n",
    "    if \"Seraphine\" in result.text:\n",
    "        profile = result.find_element(By.XPATH, \"//*[@id=\\\"react-root\\\"]/div/div/div[2]/main/div/div/div/div/div/div[3]/section/div/div/div[1]/div/div/div/div/div[2]/div[1]/div[1]/div/div[1]/a/div/div[1]/span/span[1]\")  # Adjust the XPath as needed\n",
    "        profile.click()\n",
    "        break  "
   ]
  },
  {
   "cell_type": "code",
   "execution_count": 16,
   "id": "d58e4063",
   "metadata": {},
   "outputs": [
    {
     "name": "stdout",
     "output_type": "stream",
     "text": [
      "Iteration 1\n",
      "Extracted tweet text: until we meet again\n",
      "Extracted tweet text: i think it’s time to take a break and explore something new. i gotta live life so i have something to sing about \n",
      "Extracted tweet text: This game is a treasure for RPG fans\n",
      "Element not found in a tweet. Skipping...\n",
      "Iteration 2\n",
      "Extracted tweet text: until we meet again\n",
      "Extracted tweet text: i think it’s time to take a break and explore something new. i gotta live life so i have something to sing about \n",
      "Extracted tweet text: This game is a treasure for RPG fans\n",
      "Element not found in a tweet. Skipping...\n",
      "Extracted tweet text: I fell in love with Seraphine after the clip, so this dtiys prize was just a pleasure for me\n",
      "\n",
      "for \n",
      "@Ashyrou\n",
      " \n",
      "\n",
      "#Seraphine #KDA\n",
      "Extracted tweet text: i’m realizing that making music isn’t just for other people, it’s also for yourself\n",
      "Extracted tweet text: working on this EP with K/DA really inspired me. everyone had a reason to sing, and it made me want to find mine\n",
      "Iteration 3\n",
      "Extracted tweet text: This game is a treasure for RPG fans\n",
      "Element not found in a tweet. Skipping...\n",
      "Extracted tweet text: I fell in love with Seraphine after the clip, so this dtiys prize was just a pleasure for me\n",
      "\n",
      "for \n",
      "@Ashyrou\n",
      " \n",
      "\n",
      "#Seraphine #KDA\n",
      "Extracted tweet text: i’m realizing that making music isn’t just for other people, it’s also for yourself\n",
      "Extracted tweet text: working on this EP with K/DA really inspired me. everyone had a reason to sing, and it made me want to find mine\n",
      "Extracted tweet text: Klaim bonus hingga $5.000 saat Anda daftar dan deposit di XM. Daftar dan nikmati kondisi trading terbaik pada forex, saham & lainnya. \n",
      "\n",
      "Tanpa ketentuan tersembunyi\n",
      "Profit dapat ditarik\n",
      "Spread rendah\n",
      "\n",
      "Gabung dengan lebih dari 10 juta klien yang trading dengan XM. \n",
      "\n",
      "#XM_COM\n",
      "Element not found in a tweet. Skipping...\n",
      "Extracted tweet text: ALL OUT is FINALLY OUT!!! we really put our hearts into this, hope you enjoy \n",
      "Extracted tweet text: i still don’t have the right words to describe the incredible journey these last few months have been. i started posting music from my bedroom this summer, not knowing what it would lead to.\n",
      "Iteration 4\n",
      "Extracted tweet text: Klaim bonus hingga $5.000 saat Anda daftar dan deposit di XM. Daftar dan nikmati kondisi trading terbaik pada forex, saham & lainnya. \n",
      "\n",
      "Tanpa ketentuan tersembunyi\n",
      "Profit dapat ditarik\n",
      "Spread rendah\n",
      "\n",
      "Gabung dengan lebih dari 10 juta klien yang trading dengan XM. \n",
      "\n",
      "#XM_COM\n",
      "Element not found in a tweet. Skipping...\n",
      "Extracted tweet text: ALL OUT is FINALLY OUT!!! we really put our hearts into this, hope you enjoy \n",
      "Extracted tweet text: i still don’t have the right words to describe the incredible journey these last few months have been. i started posting music from my bedroom this summer, not knowing what it would lead to.\n",
      "Extracted tweet text: i know now more than ever that i always want to make music. music is the connection between people. when you hear yourself in others’ voices, you learn to love better. to love yourself a little more. i learned that from K/DA, and from all of you.\n",
      "Extracted tweet text: the past few months have been a wild adventure: there’s been turmoil, joys, experiences beyond all imagination. but more than anything, i’m just glad i got to be here. i’m grateful i got to meet you. \n",
      "Extracted tweet text: listen to the ALL OUT EP tomorrow! it was a labor of love and i can't wait for you to hear it\n",
      "Extracted tweet text: @seradotwav\n",
      " Your doodles inspired me to draw your earlier days! A throwback if you will. Keep on making some great music! #seraphine #LeagueOfLegends\n",
      "Extracted tweet text: GoodFriends! Nggak perlu panik kalau butuh bantuan soal layanan pembayaranmu ada masalah. Langsung aja cek solusi dan tipsnya di aplikasi Merchant BCA kamu! Merchant Care bisa diakses 24 jam kok\n",
      "\n",
      "Info lebih lanjut, cek http://bca.id/merchantbca?twclid=2-2snpqykefp5sarfgwei39f7o5\n",
      "Element not found in a tweet. Skipping...\n",
      "Total tweets extracted: 11\n"
     ]
    }
   ],
   "source": [
    "from selenium.common.exceptions import NoSuchElementException\n",
    "from selenium.webdriver.common.by import By\n",
    "from selenium.webdriver.common.keys import Keys\n",
    "from time import sleep\n",
    "\n",
    "UserTags = []\n",
    "TimeStamps = []\n",
    "Tweets = []\n",
    "Replys = []\n",
    "reTweets = []\n",
    "Likes = []\n",
    "\n",
    "max_tweets = 10  # Change this to your desired limit\n",
    "\n",
    "\n",
    "extracted_tweets = set()\n",
    "\n",
    "iteration = 0\n",
    "\n",
    "while len(Tweets) < max_tweets:\n",
    "    iteration += 1\n",
    "    print(f\"Iteration {iteration}\")\n",
    "    \n",
    "    articles = driver.find_elements(By.XPATH, \"//article[@data-testid='tweet']\")\n",
    "    new_tweets_extracted = 0  \n",
    "    \n",
    "    for article in articles:\n",
    "        try:\n",
    "            tweet_text = article.find_element(By.XPATH, \".//div[@data-testid='tweetText']\").text\n",
    "            print(f\"Extracted tweet text: {tweet_text}\")\n",
    "\n",
    "            if tweet_text not in extracted_tweets:\n",
    "                new_tweets_extracted += 1\n",
    "                \n",
    "                UserTag = article.find_element(By.XPATH, \".//div[@data-testid='User-Name']\").text\n",
    "                TimeStamp = article.find_element(By.XPATH, \".//time\").get_attribute('datetime')\n",
    "                Reply = article.find_element(By.XPATH, \".//div[@data-testid='reply']\").text\n",
    "                reTweet = article.find_element(By.XPATH, \".//div[@data-testid='retweet']\").text\n",
    "                Like = article.find_element(By.XPATH, \".//div[@data-testid='like']\").text\n",
    "                \n",
    "                UserTags.append(UserTag)\n",
    "                TimeStamps.append(TimeStamp)\n",
    "                Tweets.append(tweet_text)\n",
    "                Replys.append(Reply)\n",
    "                reTweets.append(reTweet)\n",
    "                Likes.append(Like)\n",
    "                \n",
    "                extracted_tweets.add(tweet_text)\n",
    "        except NoSuchElementException:\n",
    "            print(\"Element not found in a tweet. Skipping...\")\n",
    "            continue\n",
    "\n",
    "    if new_tweets_extracted == 0:\n",
    "        break\n",
    "\n",
    "    last_tweet = articles[-1]\n",
    "    driver.execute_script('arguments[0].scrollIntoView();', last_tweet)\n",
    "    sleep(8)\n",
    "\n",
    "print(f\"Total tweets extracted: {len(Tweets)}\")"
   ]
  },
  {
   "cell_type": "code",
   "execution_count": 17,
   "id": "59d34a83",
   "metadata": {},
   "outputs": [
    {
     "data": {
      "text/html": [
       "<div>\n",
       "<style scoped>\n",
       "    .dataframe tbody tr th:only-of-type {\n",
       "        vertical-align: middle;\n",
       "    }\n",
       "\n",
       "    .dataframe tbody tr th {\n",
       "        vertical-align: top;\n",
       "    }\n",
       "\n",
       "    .dataframe thead th {\n",
       "        text-align: right;\n",
       "    }\n",
       "</style>\n",
       "<table border=\"1\" class=\"dataframe\">\n",
       "  <thead>\n",
       "    <tr style=\"text-align: right;\">\n",
       "      <th></th>\n",
       "      <th>UserTags</th>\n",
       "      <th>TimeStamps</th>\n",
       "      <th>Tweets</th>\n",
       "      <th>Replys</th>\n",
       "      <th>reTweets</th>\n",
       "      <th>Likes</th>\n",
       "    </tr>\n",
       "  </thead>\n",
       "  <tbody>\n",
       "    <tr>\n",
       "      <th>0</th>\n",
       "      <td>Seraphine\\n@seradotwav\\n·\\nNov 8, 2020</td>\n",
       "      <td>2020-11-08T03:12:00.000Z</td>\n",
       "      <td>until we meet again</td>\n",
       "      <td>1,303</td>\n",
       "      <td>4,058</td>\n",
       "      <td>28.3K</td>\n",
       "    </tr>\n",
       "    <tr>\n",
       "      <th>1</th>\n",
       "      <td>Seraphine\\n@seradotwav\\n·\\nNov 8, 2020</td>\n",
       "      <td>2020-11-07T23:01:00.000Z</td>\n",
       "      <td>i think it’s time to take a break and explore ...</td>\n",
       "      <td>1,095</td>\n",
       "      <td>2,575</td>\n",
       "      <td>22.1K</td>\n",
       "    </tr>\n",
       "    <tr>\n",
       "      <th>2</th>\n",
       "      <td>linachuu MOVED\\n@linachuuuuu\\n·\\nNov 7, 2020</td>\n",
       "      <td>2020-11-06T19:32:57.000Z</td>\n",
       "      <td>I fell in love with Seraphine after the clip, ...</td>\n",
       "      <td>32</td>\n",
       "      <td>655</td>\n",
       "      <td>7,303</td>\n",
       "    </tr>\n",
       "    <tr>\n",
       "      <th>3</th>\n",
       "      <td>Seraphine\\n@seradotwav\\n·\\nNov 7, 2020</td>\n",
       "      <td>2020-11-06T17:50:00.000Z</td>\n",
       "      <td>i’m realizing that making music isn’t just for...</td>\n",
       "      <td>165</td>\n",
       "      <td>557</td>\n",
       "      <td>11K</td>\n",
       "    </tr>\n",
       "    <tr>\n",
       "      <th>4</th>\n",
       "      <td>Seraphine\\n@seradotwav\\n·\\nNov 7, 2020</td>\n",
       "      <td>2020-11-06T17:46:00.000Z</td>\n",
       "      <td>working on this EP with K/DA really inspired m...</td>\n",
       "      <td>72</td>\n",
       "      <td>278</td>\n",
       "      <td>7,559</td>\n",
       "    </tr>\n",
       "    <tr>\n",
       "      <th>5</th>\n",
       "      <td>Seraphine\\n@seradotwav\\n·\\nNov 7, 2020</td>\n",
       "      <td>2020-11-06T17:19:49.000Z</td>\n",
       "      <td>ALL OUT is FINALLY OUT!!! we really put our he...</td>\n",
       "      <td>161</td>\n",
       "      <td>908</td>\n",
       "      <td>14.2K</td>\n",
       "    </tr>\n",
       "    <tr>\n",
       "      <th>6</th>\n",
       "      <td>Seraphine\\n@seradotwav\\n·\\nNov 6, 2020</td>\n",
       "      <td>2020-11-05T23:30:06.000Z</td>\n",
       "      <td>i still don’t have the right words to describe...</td>\n",
       "      <td>231</td>\n",
       "      <td>857</td>\n",
       "      <td>8,844</td>\n",
       "    </tr>\n",
       "    <tr>\n",
       "      <th>7</th>\n",
       "      <td>Seraphine\\n@seradotwav\\n·\\nNov 6, 2020</td>\n",
       "      <td>2020-11-05T23:30:07.000Z</td>\n",
       "      <td>i know now more than ever that i always want t...</td>\n",
       "      <td>24</td>\n",
       "      <td>104</td>\n",
       "      <td>4,801</td>\n",
       "    </tr>\n",
       "    <tr>\n",
       "      <th>8</th>\n",
       "      <td>Seraphine\\n@seradotwav\\n·\\nNov 6, 2020</td>\n",
       "      <td>2020-11-05T23:30:07.000Z</td>\n",
       "      <td>the past few months have been a wild adventure...</td>\n",
       "      <td>127</td>\n",
       "      <td>163</td>\n",
       "      <td>5,004</td>\n",
       "    </tr>\n",
       "    <tr>\n",
       "      <th>9</th>\n",
       "      <td>Seraphine\\n@seradotwav\\n·\\nNov 6, 2020</td>\n",
       "      <td>2020-11-05T18:17:00.000Z</td>\n",
       "      <td>listen to the ALL OUT EP tomorrow! it was a la...</td>\n",
       "      <td>148</td>\n",
       "      <td>601</td>\n",
       "      <td>10.1K</td>\n",
       "    </tr>\n",
       "    <tr>\n",
       "      <th>10</th>\n",
       "      <td>AquaRC (Comms Open)\\n@rc_aqua\\n·\\nNov 5, 2020</td>\n",
       "      <td>2020-11-05T14:23:26.000Z</td>\n",
       "      <td>@seradotwav\\n Your doodles inspired me to draw...</td>\n",
       "      <td>6</td>\n",
       "      <td>138</td>\n",
       "      <td>2,454</td>\n",
       "    </tr>\n",
       "  </tbody>\n",
       "</table>\n",
       "</div>"
      ],
      "text/plain": [
       "                                         UserTags                TimeStamps  \\\n",
       "0          Seraphine\\n@seradotwav\\n·\\nNov 8, 2020  2020-11-08T03:12:00.000Z   \n",
       "1          Seraphine\\n@seradotwav\\n·\\nNov 8, 2020  2020-11-07T23:01:00.000Z   \n",
       "2    linachuu MOVED\\n@linachuuuuu\\n·\\nNov 7, 2020  2020-11-06T19:32:57.000Z   \n",
       "3          Seraphine\\n@seradotwav\\n·\\nNov 7, 2020  2020-11-06T17:50:00.000Z   \n",
       "4          Seraphine\\n@seradotwav\\n·\\nNov 7, 2020  2020-11-06T17:46:00.000Z   \n",
       "5          Seraphine\\n@seradotwav\\n·\\nNov 7, 2020  2020-11-06T17:19:49.000Z   \n",
       "6          Seraphine\\n@seradotwav\\n·\\nNov 6, 2020  2020-11-05T23:30:06.000Z   \n",
       "7          Seraphine\\n@seradotwav\\n·\\nNov 6, 2020  2020-11-05T23:30:07.000Z   \n",
       "8          Seraphine\\n@seradotwav\\n·\\nNov 6, 2020  2020-11-05T23:30:07.000Z   \n",
       "9          Seraphine\\n@seradotwav\\n·\\nNov 6, 2020  2020-11-05T18:17:00.000Z   \n",
       "10  AquaRC (Comms Open)\\n@rc_aqua\\n·\\nNov 5, 2020  2020-11-05T14:23:26.000Z   \n",
       "\n",
       "                                               Tweets Replys reTweets  Likes  \n",
       "0                                 until we meet again  1,303    4,058  28.3K  \n",
       "1   i think it’s time to take a break and explore ...  1,095    2,575  22.1K  \n",
       "2   I fell in love with Seraphine after the clip, ...     32      655  7,303  \n",
       "3   i’m realizing that making music isn’t just for...    165      557    11K  \n",
       "4   working on this EP with K/DA really inspired m...     72      278  7,559  \n",
       "5   ALL OUT is FINALLY OUT!!! we really put our he...    161      908  14.2K  \n",
       "6   i still don’t have the right words to describe...    231      857  8,844  \n",
       "7   i know now more than ever that i always want t...     24      104  4,801  \n",
       "8   the past few months have been a wild adventure...    127      163  5,004  \n",
       "9   listen to the ALL OUT EP tomorrow! it was a la...    148      601  10.1K  \n",
       "10  @seradotwav\\n Your doodles inspired me to draw...      6      138  2,454  "
      ]
     },
     "execution_count": 17,
     "metadata": {},
     "output_type": "execute_result"
    }
   ],
   "source": [
    "import pandas as pd\n",
    "\n",
    "df = pd.DataFrame(zip(UserTags,TimeStamps,Tweets,Replys,reTweets,Likes)\n",
    "                  ,columns=['UserTags','TimeStamps','Tweets','Replys','reTweets','Likes'])\n",
    "\n",
    "df"
   ]
  },
  {
   "cell_type": "code",
   "execution_count": 18,
   "id": "11cd0733",
   "metadata": {},
   "outputs": [],
   "source": [
    "df.to_excel(\"twitterscraping2020_v1.xlsx\", index=False)"
   ]
  },
  {
   "cell_type": "code",
   "execution_count": 24,
   "id": "e319fbdf",
   "metadata": {},
   "outputs": [
    {
     "data": {
      "text/html": [
       "<div>\n",
       "<style scoped>\n",
       "    .dataframe tbody tr th:only-of-type {\n",
       "        vertical-align: middle;\n",
       "    }\n",
       "\n",
       "    .dataframe tbody tr th {\n",
       "        vertical-align: top;\n",
       "    }\n",
       "\n",
       "    .dataframe thead th {\n",
       "        text-align: right;\n",
       "    }\n",
       "</style>\n",
       "<table border=\"1\" class=\"dataframe\">\n",
       "  <thead>\n",
       "    <tr style=\"text-align: right;\">\n",
       "      <th></th>\n",
       "      <th>Tweets</th>\n",
       "    </tr>\n",
       "  </thead>\n",
       "  <tbody>\n",
       "    <tr>\n",
       "      <th>0</th>\n",
       "      <td>until we meet again</td>\n",
       "    </tr>\n",
       "    <tr>\n",
       "      <th>1</th>\n",
       "      <td>i think it’s time to take a break and explore ...</td>\n",
       "    </tr>\n",
       "    <tr>\n",
       "      <th>2</th>\n",
       "      <td>I fell in love with Seraphine after the clip, ...</td>\n",
       "    </tr>\n",
       "    <tr>\n",
       "      <th>3</th>\n",
       "      <td>i’m realizing that making music isn’t just for...</td>\n",
       "    </tr>\n",
       "    <tr>\n",
       "      <th>4</th>\n",
       "      <td>working on this EP with K/DA really inspired m...</td>\n",
       "    </tr>\n",
       "    <tr>\n",
       "      <th>5</th>\n",
       "      <td>ALL OUT is FINALLY OUT!!! we really put our he...</td>\n",
       "    </tr>\n",
       "    <tr>\n",
       "      <th>6</th>\n",
       "      <td>i still don’t have the right words to describe...</td>\n",
       "    </tr>\n",
       "    <tr>\n",
       "      <th>7</th>\n",
       "      <td>i know now more than ever that i always want t...</td>\n",
       "    </tr>\n",
       "    <tr>\n",
       "      <th>8</th>\n",
       "      <td>the past few months have been a wild adventure...</td>\n",
       "    </tr>\n",
       "    <tr>\n",
       "      <th>9</th>\n",
       "      <td>listen to the ALL OUT EP tomorrow! it was a la...</td>\n",
       "    </tr>\n",
       "    <tr>\n",
       "      <th>10</th>\n",
       "      <td>@seradotwav\\n Your doodles inspired me to draw...</td>\n",
       "    </tr>\n",
       "  </tbody>\n",
       "</table>\n",
       "</div>"
      ],
      "text/plain": [
       "                                               Tweets\n",
       "0                                 until we meet again\n",
       "1   i think it’s time to take a break and explore ...\n",
       "2   I fell in love with Seraphine after the clip, ...\n",
       "3   i’m realizing that making music isn’t just for...\n",
       "4   working on this EP with K/DA really inspired m...\n",
       "5   ALL OUT is FINALLY OUT!!! we really put our he...\n",
       "6   i still don’t have the right words to describe...\n",
       "7   i know now more than ever that i always want t...\n",
       "8   the past few months have been a wild adventure...\n",
       "9   listen to the ALL OUT EP tomorrow! it was a la...\n",
       "10  @seradotwav\\n Your doodles inspired me to draw..."
      ]
     },
     "execution_count": 24,
     "metadata": {},
     "output_type": "execute_result"
    }
   ],
   "source": [
    "df2 = pd.DataFrame(Tweets, columns=['Tweets'])\n",
    "df2"
   ]
  },
  {
   "cell_type": "code",
   "execution_count": 30,
   "id": "2e8934cc",
   "metadata": {},
   "outputs": [
    {
     "name": "stdout",
     "output_type": "stream",
     "text": [
      "                                            Sentences\n",
      "0                                 until we meet again\n",
      "1   i think it’s time to take a break and explore ...\n",
      "2   i gotta live life so i have something to sing ...\n",
      "3   I fell in love with Seraphine after the clip, ...\n",
      "4   i’m realizing that making music isn’t just for...\n",
      "5    working on this EP with K/DA really inspired me.\n",
      "6   everyone had a reason to sing, and it made me ...\n",
      "7                           ALL OUT is FINALLY OUT!!!\n",
      "8   we really put our hearts into this, hope you e...\n",
      "9   i still don’t have the right words to describe...\n",
      "10  i started posting music from my bedroom this s...\n",
      "11  i know now more than ever that i always want t...\n",
      "12            music is the connection between people.\n",
      "13  when you hear yourself in others’ voices, you ...\n",
      "14                    to love yourself a little more.\n",
      "15     i learned that from K/DA, and from all of you.\n",
      "16  the past few months have been a wild adventure...\n",
      "17  but more than anything, i’m just glad i got to...\n",
      "18                    i’m grateful i got to meet you.\n",
      "19                 listen to the ALL OUT EP tomorrow!\n",
      "20  it was a labor of love and i can't wait for yo...\n",
      "21  @seradotwav\\n Your doodles inspired me to draw...\n",
      "22                           A throwback if you will.\n",
      "23                   Keep on making some great music!\n",
      "24                        #seraphine #LeagueOfLegends\n"
     ]
    }
   ],
   "source": [
    "#for further analysis\n",
    "\n",
    "import pandas as pd\n",
    "import nltk\n",
    "from nltk.tokenize import sent_tokenize\n",
    "\n",
    "def split_sentences(text):\n",
    "    return sent_tokenize(text)\n",
    "\n",
    "sentences = [split_sentences(tweet) for tweet in Tweets]\n",
    "\n",
    "flattened_sentences = [sentence for sublist in sentences for sentence in sublist]\n",
    "\n",
    "df = pd.DataFrame(flattened_sentences, columns=['Sentences'])\n",
    "\n",
    "print(df)"
   ]
  },
  {
   "cell_type": "code",
   "execution_count": 31,
   "id": "f2db51fc",
   "metadata": {},
   "outputs": [
    {
     "name": "stdout",
     "output_type": "stream",
     "text": [
      "['until', 'we', 'meet', 'again', 'i', 'think', 'it’s', 'time', 'to', 'take', 'a', 'break', 'and', 'explore', 'something', 'new.', 'i', 'gotta', 'live', 'life', 'so', 'i', 'have', 'something', 'to', 'sing', 'about', 'I', 'fell', 'in', 'love', 'with', 'Seraphine', 'after', 'the', 'clip,', 'so', 'this', 'dtiys', 'prize', 'was', 'just', 'a', 'pleasure', 'for', 'me', 'for', '@Ashyrou', '#Seraphine', '#KDA', 'i’m', 'realizing', 'that', 'making', 'music', 'isn’t', 'just', 'for', 'other', 'people,', 'it’s', 'also', 'for', 'yourself', 'working', 'on', 'this', 'EP', 'with', 'K/DA', 'really', 'inspired', 'me.', 'everyone', 'had', 'a', 'reason', 'to', 'sing,', 'and', 'it', 'made', 'me', 'want', 'to', 'find', 'mine', 'ALL', 'OUT', 'is', 'FINALLY', 'OUT!!!', 'we', 'really', 'put', 'our', 'hearts', 'into', 'this,', 'hope', 'you', 'enjoy', 'i', 'still', 'don’t', 'have', 'the', 'right', 'words', 'to', 'describe', 'the', 'incredible', 'journey', 'these', 'last', 'few', 'months', 'have', 'been.', 'i', 'started', 'posting', 'music', 'from', 'my', 'bedroom', 'this', 'summer,', 'not', 'knowing', 'what', 'it', 'would', 'lead', 'to.', 'i', 'know', 'now', 'more', 'than', 'ever', 'that', 'i', 'always', 'want', 'to', 'make', 'music.', 'music', 'is', 'the', 'connection', 'between', 'people.', 'when', 'you', 'hear', 'yourself', 'in', 'others’', 'voices,', 'you', 'learn', 'to', 'love', 'better.', 'to', 'love', 'yourself', 'a', 'little', 'more.', 'i', 'learned', 'that', 'from', 'K/DA,', 'and', 'from', 'all', 'of', 'you.', 'the', 'past', 'few', 'months', 'have', 'been', 'a', 'wild', 'adventure:', 'there’s', 'been', 'turmoil,', 'joys,', 'experiences', 'beyond', 'all', 'imagination.', 'but', 'more', 'than', 'anything,', 'i’m', 'just', 'glad', 'i', 'got', 'to', 'be', 'here.', 'i’m', 'grateful', 'i', 'got', 'to', 'meet', 'you.', 'listen', 'to', 'the', 'ALL', 'OUT', 'EP', 'tomorrow!', 'it', 'was', 'a', 'labor', 'of', 'love', 'and', 'i', \"can't\", 'wait', 'for', 'you', 'to', 'hear', 'it', '@seradotwav', 'Your', 'doodles', 'inspired', 'me', 'to', 'draw', 'your', 'earlier', 'days!', 'A', 'throwback', 'if', 'you', 'will.', 'Keep', 'on', 'making', 'some', 'great', 'music!', '#seraphine', '#LeagueOfLegends']\n"
     ]
    }
   ],
   "source": [
    "all_sentences = df['Sentences']\n",
    "\n",
    "all_words = []\n",
    "\n",
    "for sentence in all_sentences:\n",
    "    words = sentence.split()\n",
    "    all_words.extend(words)\n",
    "\n",
    "print(all_words)"
   ]
  },
  {
   "cell_type": "code",
   "execution_count": 33,
   "id": "0db6ab22",
   "metadata": {},
   "outputs": [
    {
     "name": "stdout",
     "output_type": "stream",
     "text": [
      "['until', 'we', 'meet', 'again', 'i', 'think', 'its', 'time', 'to', 'take', 'a', 'break', 'and', 'explore', 'something', 'new', 'i', 'gotta', 'live', 'life', 'so', 'i', 'have', 'something', 'to', 'sing', 'about', 'I', 'fell', 'in', 'love', 'with', 'Seraphine', 'after', 'the', 'clip', 'so', 'this', 'dtiys', 'prize', 'was', 'just', 'a', 'pleasure', 'for', 'me', 'for', 'Ashyrou', 'Seraphine', 'KDA', 'im', 'realizing', 'that', 'making', 'music', 'isnt', 'just', 'for', 'other', 'people', 'its', 'also', 'for', 'yourself', 'working', 'on', 'this', 'EP', 'with', 'KDA', 'really', 'inspired', 'me', 'everyone', 'had', 'a', 'reason', 'to', 'sing', 'and', 'it', 'made', 'me', 'want', 'to', 'find', 'mine', 'ALL', 'OUT', 'is', 'FINALLY', 'OUT', 'we', 'really', 'put', 'our', 'hearts', 'into', 'this', 'hope', 'you', 'enjoy', 'i', 'still', 'dont', 'have', 'the', 'right', 'words', 'to', 'describe', 'the', 'incredible', 'journey', 'these', 'last', 'few', 'months', 'have', 'been', 'i', 'started', 'posting', 'music', 'from', 'my', 'bedroom', 'this', 'summer', 'not', 'knowing', 'what', 'it', 'would', 'lead', 'to', 'i', 'know', 'now', 'more', 'than', 'ever', 'that', 'i', 'always', 'want', 'to', 'make', 'music', 'music', 'is', 'the', 'connection', 'between', 'people', 'when', 'you', 'hear', 'yourself', 'in', 'others', 'voices', 'you', 'learn', 'to', 'love', 'better', 'to', 'love', 'yourself', 'a', 'little', 'more', 'i', 'learned', 'that', 'from', 'KDA', 'and', 'from', 'all', 'of', 'you', 'the', 'past', 'few', 'months', 'have', 'been', 'a', 'wild', 'adventure', 'theres', 'been', 'turmoil', 'joys', 'experiences', 'beyond', 'all', 'imagination', 'but', 'more', 'than', 'anything', 'im', 'just', 'glad', 'i', 'got', 'to', 'be', 'here', 'im', 'grateful', 'i', 'got', 'to', 'meet', 'you', 'listen', 'to', 'the', 'ALL', 'OUT', 'EP', 'tomorrow', 'it', 'was', 'a', 'labor', 'of', 'love', 'and', 'i', 'cant', 'wait', 'for', 'you', 'to', 'hear', 'it', 'seradotwav', 'Your', 'doodles', 'inspired', 'me', 'to', 'draw', 'your', 'earlier', 'days', 'A', 'throwback', 'if', 'you', 'will', 'Keep', 'on', 'making', 'some', 'great', 'music', 'seraphine', 'LeagueOfLegends']\n"
     ]
    }
   ],
   "source": [
    "import re\n",
    "all_words = [re.sub(r'[^A-Za-z0-9]+', '', x) for x in all_words]\n",
    "\n",
    "all_words = [word for word in all_words if word != '']\n",
    "\n",
    "print(all_words)"
   ]
  },
  {
   "cell_type": "code",
   "execution_count": 35,
   "id": "479fb794",
   "metadata": {},
   "outputs": [
    {
     "name": "stdout",
     "output_type": "stream",
     "text": [
      "['until', 'we', 'meet', 'again', 'i', 'think', 'it', 'time', 'to', 'take', 'a', 'break', 'and', 'explor', 'someth', 'new', 'i', 'gotta', 'live', 'life', 'so', 'i', 'have', 'someth', 'to', 'sing', 'about', 'i', 'fell', 'in', 'love', 'with', 'seraphin', 'after', 'the', 'clip', 'so', 'this', 'dtiy', 'prize', 'was', 'just', 'a', 'pleasur', 'for', 'me', 'for', 'ashyrou', 'seraphin', 'kda', 'im', 'realiz', 'that', 'make', 'music', 'isnt', 'just', 'for', 'other', 'peopl', 'it', 'also', 'for', 'yourself', 'work', 'on', 'this', 'ep', 'with', 'kda', 'realli', 'inspir', 'me', 'everyon', 'had', 'a', 'reason', 'to', 'sing', 'and', 'it', 'made', 'me', 'want', 'to', 'find', 'mine', 'all', 'out', 'is', 'final', 'out', 'we', 'realli', 'put', 'our', 'heart', 'into', 'this', 'hope', 'you', 'enjoy', 'i', 'still', 'dont', 'have', 'the', 'right', 'word', 'to', 'describ', 'the', 'incred', 'journey', 'these', 'last', 'few', 'month', 'have', 'been', 'i', 'start', 'post', 'music', 'from', 'my', 'bedroom', 'this', 'summer', 'not', 'know', 'what', 'it', 'would', 'lead', 'to', 'i', 'know', 'now', 'more', 'than', 'ever', 'that', 'i', 'alway', 'want', 'to', 'make', 'music', 'music', 'is', 'the', 'connect', 'between', 'peopl', 'when', 'you', 'hear', 'yourself', 'in', 'other', 'voic', 'you', 'learn', 'to', 'love', 'better', 'to', 'love', 'yourself', 'a', 'littl', 'more', 'i', 'learn', 'that', 'from', 'kda', 'and', 'from', 'all', 'of', 'you', 'the', 'past', 'few', 'month', 'have', 'been', 'a', 'wild', 'adventur', 'there', 'been', 'turmoil', 'joy', 'experi', 'beyond', 'all', 'imagin', 'but', 'more', 'than', 'anyth', 'im', 'just', 'glad', 'i', 'got', 'to', 'be', 'here', 'im', 'grate', 'i', 'got', 'to', 'meet', 'you', 'listen', 'to', 'the', 'all', 'out', 'ep', 'tomorrow', 'it', 'was', 'a', 'labor', 'of', 'love', 'and', 'i', 'cant', 'wait', 'for', 'you', 'to', 'hear', 'it', 'seradotwav', 'your', 'doodl', 'inspir', 'me', 'to', 'draw', 'your', 'earlier', 'day', 'a', 'throwback', 'if', 'you', 'will', 'keep', 'on', 'make', 'some', 'great', 'music', 'seraphin', 'leagueoflegend']\n"
     ]
    }
   ],
   "source": [
    "from nltk.stem.snowball import SnowballStemmer\n",
    "\n",
    "s_stemmer = SnowballStemmer(language='english')\n",
    "\n",
    "stem = []\n",
    "for word in all_words:\n",
    "    stem.append(s_stemmer.stem(word))\n",
    "\n",
    "print(stem)"
   ]
  },
  {
   "cell_type": "code",
   "execution_count": 39,
   "id": "3bf89263",
   "metadata": {},
   "outputs": [
    {
     "name": "stderr",
     "output_type": "stream",
     "text": [
      "[nltk_data] Downloading package stopwords to\n",
      "[nltk_data]     C:\\Users\\User\\AppData\\Roaming\\nltk_data...\n",
      "[nltk_data]   Unzipping corpora\\stopwords.zip.\n"
     ]
    },
    {
     "data": {
      "text/plain": [
       "['meet',\n",
       " 'think',\n",
       " 'time',\n",
       " 'take',\n",
       " 'break',\n",
       " 'explor',\n",
       " 'someth',\n",
       " 'new',\n",
       " 'gotta',\n",
       " 'live',\n",
       " 'life',\n",
       " 'someth',\n",
       " 'sing',\n",
       " 'fell',\n",
       " 'love',\n",
       " 'seraphin',\n",
       " 'clip',\n",
       " 'dtiy',\n",
       " 'prize',\n",
       " 'pleasur',\n",
       " 'ashyrou',\n",
       " 'seraphin',\n",
       " 'kda',\n",
       " 'im',\n",
       " 'realiz',\n",
       " 'make',\n",
       " 'music',\n",
       " 'isnt',\n",
       " 'peopl',\n",
       " 'also',\n",
       " 'work',\n",
       " 'ep',\n",
       " 'kda',\n",
       " 'realli',\n",
       " 'inspir',\n",
       " 'everyon',\n",
       " 'reason',\n",
       " 'sing',\n",
       " 'made',\n",
       " 'want',\n",
       " 'find',\n",
       " 'mine',\n",
       " 'final',\n",
       " 'realli',\n",
       " 'put',\n",
       " 'heart',\n",
       " 'hope',\n",
       " 'enjoy',\n",
       " 'still',\n",
       " 'dont',\n",
       " 'right',\n",
       " 'word',\n",
       " 'describ',\n",
       " 'incred',\n",
       " 'journey',\n",
       " 'last',\n",
       " 'month',\n",
       " 'start',\n",
       " 'post',\n",
       " 'music',\n",
       " 'bedroom',\n",
       " 'summer',\n",
       " 'know',\n",
       " 'would',\n",
       " 'lead',\n",
       " 'know',\n",
       " 'ever',\n",
       " 'alway',\n",
       " 'want',\n",
       " 'make',\n",
       " 'music',\n",
       " 'music',\n",
       " 'connect',\n",
       " 'peopl',\n",
       " 'hear',\n",
       " 'voic',\n",
       " 'learn',\n",
       " 'love',\n",
       " 'better',\n",
       " 'love',\n",
       " 'littl',\n",
       " 'learn',\n",
       " 'kda',\n",
       " 'past',\n",
       " 'month',\n",
       " 'wild',\n",
       " 'adventur',\n",
       " 'turmoil',\n",
       " 'joy',\n",
       " 'experi',\n",
       " 'beyond',\n",
       " 'imagin',\n",
       " 'anyth',\n",
       " 'im',\n",
       " 'glad',\n",
       " 'got',\n",
       " 'im',\n",
       " 'grate',\n",
       " 'got',\n",
       " 'meet',\n",
       " 'listen',\n",
       " 'ep',\n",
       " 'tomorrow',\n",
       " 'labor',\n",
       " 'love',\n",
       " 'cant',\n",
       " 'wait',\n",
       " 'hear',\n",
       " 'seradotwav',\n",
       " 'doodl',\n",
       " 'inspir',\n",
       " 'draw',\n",
       " 'earlier',\n",
       " 'day',\n",
       " 'throwback',\n",
       " 'keep',\n",
       " 'make',\n",
       " 'great',\n",
       " 'music',\n",
       " 'seraphin',\n",
       " 'leagueoflegend']"
      ]
     },
     "execution_count": 39,
     "metadata": {},
     "output_type": "execute_result"
    }
   ],
   "source": [
    "from nltk.corpus import stopwords\n",
    "nltk.download('stopwords')\n",
    "\n",
    "stop_words = set(stopwords.words('english'))\n",
    "\n",
    "stem2 = []\n",
    "\n",
    "for word in stem:\n",
    "    if word not in stop_words:\n",
    "        stem2.append(word)\n",
    "\n",
    "stem2"
   ]
  },
  {
   "cell_type": "code",
   "execution_count": 40,
   "id": "7778b204",
   "metadata": {},
   "outputs": [],
   "source": [
    "df = pd.DataFrame(stem2)\n",
    "\n",
    "df = df[0].value_counts()"
   ]
  },
  {
   "cell_type": "code",
   "execution_count": 42,
   "id": "8fad1a5a",
   "metadata": {},
   "outputs": [
    {
     "name": "stdout",
     "output_type": "stream",
     "text": [
      "<FreqDist with 93 samples and 121 outcomes>\n"
     ]
    }
   ],
   "source": [
    "#This will give frequencies of our words\n",
    "\n",
    "from nltk.probability import FreqDist\n",
    "\n",
    "freqdoctor = FreqDist(stem2)\n",
    "\n",
    "print(freqdoctor)"
   ]
  },
  {
   "cell_type": "code",
   "execution_count": 43,
   "id": "bfcde500",
   "metadata": {},
   "outputs": [],
   "source": [
    "import matplotlib.pyplot as plt; plt.rcdefaults()\n",
    "import numpy as np\n",
    "import matplotlib.pyplot as plt\n",
    "import seaborn as sns"
   ]
  },
  {
   "cell_type": "code",
   "execution_count": 45,
   "id": "08805b6f",
   "metadata": {},
   "outputs": [
    {
     "data": {
      "image/png": "[encoded data removed]",
      "text/plain": [
       "<Figure size 1000x500 with 1 Axes>"
      ]
     },
     "metadata": {},
     "output_type": "display_data"
    }
   ],
   "source": [
    "#This is a simple plot that shows the top 20 words being used\n",
    "\n",
    "df = df.sort_values(ascending=False)\n",
    "\n",
    "df = df[:20]\n",
    "\n",
    "# Create the bar plot\n",
    "plt.figure(figsize=(10, 5))\n",
    "sns.barplot(x=df.values, y=df.index, alpha=0.8)\n",
    "plt.title('Top Words Overall')\n",
    "plt.ylabel('Word from Tweet', fontsize=12)\n",
    "plt.xlabel('Count of Words', fontsize=12)\n",
    "plt.show()"
   ]
  },
  {
   "cell_type": "code",
   "execution_count": 47,
   "id": "8ef8ac02",
   "metadata": {},
   "outputs": [],
   "source": [
    "import spacy\n",
    "from spacy import displacy\n",
    "from collections import Counter\n",
    "import en_core_web_sm\n",
    "nlp = en_core_web_sm.load()"
   ]
  },
  {
   "cell_type": "code",
   "execution_count": 48,
   "id": "67835007",
   "metadata": {},
   "outputs": [],
   "source": [
    "def show_ents(doc):\n",
    "    if doc.ents:\n",
    "        for ent in doc.ents:\n",
    "            print(ent.text + ' - ' + ent.label_ + ' - ' + str(spacy.explain(ent.label_)))"
   ]
  },
  {
   "cell_type": "code",
   "execution_count": 50,
   "id": "7f324a49",
   "metadata": {},
   "outputs": [],
   "source": [
    "str1 = \" \" \n",
    "stem2 = str1.join(all_words)\n",
    "\n",
    "stem2 = nlp(stem2)\n",
    "\n",
    "label = [(X.text, X.label_) for X in stem2.ents]\n",
    "\n",
    "df6 = pd.DataFrame(label, columns = ['Word','Entity'])\n",
    "\n",
    "df7 = df6.where(df6['Entity'] == 'ORG')\n",
    "\n",
    "df7 = df7['Word'].value_counts()"
   ]
  },
  {
   "cell_type": "code",
   "execution_count": 52,
   "id": "d1317eb2",
   "metadata": {},
   "outputs": [
    {
     "data": {
      "image/png": "[encoded data removed]",
      "text/plain": [
       "<Figure size 1000x500 with 1 Axes>"
      ]
     },
     "metadata": {},
     "output_type": "display_data"
    }
   ],
   "source": [
    "df = df7[:20] \n",
    "\n",
    "plt.figure(figsize=(10, 5))\n",
    "sns.barplot(x=df.values, y=df.index, alpha=0.8)\n",
    "plt.title('Top Organizations Mentioned')\n",
    "plt.ylabel('Word from Tweet', fontsize=12)\n",
    "plt.xlabel('Count of Words', fontsize=12)\n",
    "plt.show()"
   ]
  },
  {
   "cell_type": "code",
   "execution_count": 53,
   "id": "e1eabb00",
   "metadata": {},
   "outputs": [],
   "source": [
    "str1 = \" \" \n",
    "stem2 = str1.join(all_words)\n",
    "\n",
    "stem2 = nlp(stem2)\n",
    "\n",
    "label = [(X.text, X.label_) for X in stem2.ents]\n",
    "\n",
    "df10 = pd.DataFrame(label, columns = ['Word','Entity'])\n",
    "\n",
    "df10 = df10.where(df10['Entity'] == 'PERSON')\n",
    "\n",
    "df11 = df10['Word'].value_counts()"
   ]
  },
  {
   "cell_type": "code",
   "execution_count": 55,
   "id": "16be2a1e",
   "metadata": {},
   "outputs": [
    {
     "data": {
      "image/png": "[encoded data removed]",
      "text/plain": [
       "<Figure size 1000x500 with 1 Axes>"
      ]
     },
     "metadata": {},
     "output_type": "display_data"
    }
   ],
   "source": [
    "df = df11[:20]\n",
    "\n",
    "plt.figure(figsize=(10,5))\n",
    "sns.barplot(x=df.values, y=df.index, alpha=0.8)\n",
    "plt.title('Top People Mentioned')\n",
    "plt.ylabel('Word from Tweet', fontsize=12)\n",
    "plt.xlabel('Count of Words', fontsize=12)\n",
    "plt.show()"
   ]
  }
 ],
 "metadata": {
  "kernelspec": {
   "display_name": "Python 3 (ipykernel)",
   "language": "python",
   "name": "python3"
  },
  "language_info": {
   "codemirror_mode": {
    "name": "ipython",
    "version": 3
   },
   "file_extension": ".py",
   "mimetype": "text/x-python",
   "name": "python",
   "nbconvert_exporter": "python",
   "pygments_lexer": "ipython3",
   "version": "3.10.9"
  }
 },
 "nbformat": 4,
 "nbformat_minor": 5
}
