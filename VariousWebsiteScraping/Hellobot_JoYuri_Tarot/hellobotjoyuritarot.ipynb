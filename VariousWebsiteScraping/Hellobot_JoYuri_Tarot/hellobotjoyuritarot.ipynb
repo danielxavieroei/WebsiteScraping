{
 "cells": [
  {
   "cell_type": "code",
   "execution_count": 24,
   "id": "7522c27d",
   "metadata": {},
   "outputs": [],
   "source": [
    "#imports\n",
    "from selenium import webdriver\n",
    "from selenium.webdriver.common.keys import Keys\n",
    "from selenium.webdriver.support import expected_conditions as EC\n",
    "from selenium.webdriver.common.by import By\n",
    "from selenium.webdriver.support.wait import WebDriverWait\n",
    "import time, urllib.request, requests"
   ]
  },
  {
   "cell_type": "code",
   "execution_count": 25,
   "id": "d6c2aa99",
   "metadata": {},
   "outputs": [],
   "source": [
    "service = webdriver.ChromeService(executable_path='C:\\chromedriver-win64\\chromedriver.exe')\n",
    "driver = webdriver.Chrome(service=service)"
   ]
  },
  {
   "cell_type": "code",
   "execution_count": 26,
   "id": "3a48b2fb",
   "metadata": {},
   "outputs": [],
   "source": [
    "driver.get(\"https://hellobot.co/random-box/collection/67\")"
   ]
  },
  {
   "cell_type": "code",
   "execution_count": 5,
   "id": "862ba586",
   "metadata": {},
   "outputs": [],
   "source": [
    "#manually sign up and login to save time and effort"
   ]
  },
  {
   "cell_type": "code",
   "execution_count": 22,
   "id": "d902adf3",
   "metadata": {},
   "outputs": [
    {
     "name": "stdout",
     "output_type": "stream",
     "text": [
      "Number of scraped and downloaded images:  2\n"
     ]
    }
   ],
   "source": [
    "# for documentation purpose\n",
    "# problem: downloading one by one is a waste of time\n",
    "\n",
    "# from bs4 import BeautifulSoup\n",
    "# import requests\n",
    "# import re\n",
    "# import os\n",
    "\n",
    "# html_content = \"\"\"\n",
    "# <html>\n",
    "#     <body>\n",
    "#         <div class=\"card-wrapper\" style=\"background-image: url(&quot;https://media.hellobot.co/collectionItem/joyuri1.jpg&quot;);\"></div>\n",
    "#         <div class=\"card-wrapper\" style=\"background-image: url(&quot;https://media.hellobot.co/collectionItem/joyuri2.jpg&quot;);\"></div>\n",
    "#     </body>\n",
    "# </html>\n",
    "# \"\"\"\n",
    "\n",
    "# soup = BeautifulSoup(html_content, 'html.parser')\n",
    "\n",
    "# elements = soup.find_all('div', class_='card-wrapper')\n",
    "\n",
    "# os.makedirs('jo yuri_tarot_images', exist_ok=True)\n",
    "\n",
    "# for index, element in enumerate(elements):\n",
    "#     style = element['style']\n",
    "#     url = re.search(r'url\\(\"([^\"]+)\"\\)', style).group(1)\n",
    "\n",
    "#     response = requests.get(url)\n",
    "#     if response.status_code == 200:\n",
    "#         with open(f'jo yuri_tarot_images/jo yuri_{index + 1}.png', 'wb') as f:\n",
    "#             f.write(response.content)\n",
    "\n",
    "# print('Number of scraped and downloaded images: ', len(elements))\n"
   ]
  },
  {
   "cell_type": "code",
   "execution_count": 27,
   "id": "3f1cd3bf",
   "metadata": {},
   "outputs": [
    {
     "name": "stdout",
     "output_type": "stream",
     "text": [
      "Number of scraped and downloaded images:  79\n"
     ]
    }
   ],
   "source": [
    "# for documentation purpuse\n",
    "# problem: wrong numbering image\n",
    "\n",
    "# from bs4 import BeautifulSoup\n",
    "# import requests\n",
    "# import re\n",
    "# import os\n",
    "\n",
    "# elements = driver.find_elements(By.CLASS_NAME, 'card-wrapper')\n",
    "\n",
    "# os.makedirs('jo yuri_tarot_images', exist_ok=True)\n",
    "\n",
    "# for index, element in enumerate(elements):\n",
    "#     style = element.get_attribute('style')\n",
    "#     match = re.search(r'url\\(\"([^\"]+)\"\\)', style)\n",
    "#     if match:\n",
    "#         url = match.group(1)\n",
    "\n",
    "#         response = requests.get(url)\n",
    "#         if response.status_code == 200:\n",
    "#             with open(f'jo yuri_tarot_images/jo yuri_{index + 1}.png', 'wb') as f:\n",
    "#                 f.write(response.content)\n",
    "\n",
    "# print('Number of scraped and downloaded images: ', len(elements))"
   ]
  },
  {
   "cell_type": "code",
   "execution_count": 28,
   "id": "0e8c5727",
   "metadata": {},
   "outputs": [
    {
     "name": "stdout",
     "output_type": "stream",
     "text": [
      "Number of scraped and downloaded images:  78\n"
     ]
    }
   ],
   "source": [
    "from bs4 import BeautifulSoup\n",
    "import requests\n",
    "import re\n",
    "import os\n",
    "\n",
    "elements = driver.find_elements(By.CLASS_NAME, 'card-wrapper')\n",
    "\n",
    "os.makedirs('jo yuri_tarot_images', exist_ok=True)\n",
    "\n",
    "image_count = 1\n",
    "\n",
    "for element in elements:\n",
    "    style = element.get_attribute('style')\n",
    "    match = re.search(r'url\\(\"([^\"]+)\"\\)', style)\n",
    "    if match:\n",
    "        url = match.group(1)\n",
    "\n",
    "        response = requests.get(url)\n",
    "        if response.status_code == 200:\n",
    "            with open(f'jo yuri_tarot_images/jo yuri_{image_count:02d}.png', 'wb') as f:\n",
    "                f.write(response.content)\n",
    "            image_count += 1\n",
    "\n",
    "print('Number of scraped and downloaded images: ', image_count - 1)\n"
   ]
  }
 ],
 "metadata": {
  "kernelspec": {
   "display_name": "Python 3 (ipykernel)",
   "language": "python",
   "name": "python3"
  },
  "language_info": {
   "codemirror_mode": {
    "name": "ipython",
    "version": 3
   },
   "file_extension": ".py",
   "mimetype": "text/x-python",
   "name": "python",
   "nbconvert_exporter": "python",
   "pygments_lexer": "ipython3",
   "version": "3.10.9"
  }
 },
 "nbformat": 4,
 "nbformat_minor": 5
}
